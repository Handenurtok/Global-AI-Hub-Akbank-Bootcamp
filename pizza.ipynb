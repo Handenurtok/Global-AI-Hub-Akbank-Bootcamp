import csv
import datetime  

class Pizza:
    def __init__(self, base_type, sauce_type):
        self._base_type = base_type
        self._sauce_type = sauce_type
        
    def get_description(self):
        return f"Pizzamız Anadolu'dan özenle seçilmiş buğdaylarımızdan elde edilen tam buğday unundan yapılmaktadır. Ekşi maya ile ürettiğimiz hamurlarımızın üzerinde domates sosları ve zeytinyağı bulunmaktadır. Bu taban üzerine pizzalarınızı özelleştirebilirsiniz. Pizzanız {self._base_type} tipte ve {self._sauce_type} sosu içermektedir."
    
    def get_cost(self):
        
        cost = 0
        if self._base_type == "Klasik":
            cost += 15
        elif self._base_type == "Margarita":
            cost += 20
        elif self._base_type == "TurkPizza":
            cost += 25
        elif self._base_type == "SadePizza":
            cost += 10
            
        if self._sauce_type == "Zeytin":
            cost += 2
        elif self._sauce_type == "Mantarlar":
            cost += 3
        elif self._sauce_type == "Keçi Peyniri":
            cost += 5
        elif self._sauce_type == "Et":
            cost += 7
        elif self._sauce_type == "Soğan":
            cost += 1
        elif self._sauce_type == "Mısır":
            cost += 2
            
        return cost

class Decorator(Pizza):
    def __init__(self, pizza, sauce_type):
        self._pizza = pizza
        self._sauce_type = sauce_type
        
    def get_description(self):
        return self._pizza.get_description() + f", {self._sauce_type} sosu eklenerek"
    
    def get_cost(self):
        return self._pizza.get_cost() + self.get_sauce_cost()
    
    def get_sauce_cost(self):
        if self._sauce_type == "Zeytin":
            cost = 2
        elif self._sauce_type == "Mantarlar":
            cost = 3
        elif self._sauce_type == "Keçi Peyniri":
            cost = 5
        elif self._sauce_type == "Et":
            cost = 7
        elif self._sauce_type == "Soğan":
            cost = 1
        elif self._sauce_type == "Mısır":
            cost = 2
            
        return cost

class Klasik(Pizza):
    def __init__(self, sauce_type):
        super().__init__("Klasik", sauce_type)

class Margarita(Pizza):
    def __init__(self, sauce_type):
        super().__init__("Margarita", sauce_type)

class TurkPizza(Pizza):
    def __init__(self, sauce_type):
        super().__init__("Turk Pizza", sauce_type)

class SadePizza(Pizza):
    def __init__(self, sauce_type):
        super().__init__("Sade Pizza", sauce_type)

if __name__ == "__main__":
    with open("Menu.txt", "w") as f:
        f.write("* Lütfen Bir Tabanı Seçiniz:\n")
        f.write("1: Klasik\n")
        f.write("2: Margarita\n")
        f.write("3: TürkPizza\n")
        f.write("4: Sade Pizza\n")
        f.write("* ve seçeceğiniz sos:\n")
        f.write("11: Zeytin\n")
        f.write("12: Mantarlar\n")
        f.write("13: Keçi Peyniri\n")
        f.write("14: Et\n")
        f.write("15: Soğan\n")
        f.write("16: Mısır\n")
        f.write("* Teşekkür ederiz!\n") 
        pizza = None
while not pizza:
    base_type = input("Lütfen pizza tabanınızı seçin (1-4): ")
    sauce_type = input("Lütfen sosunuzu seçin (11-16): ")
    if base_type == "1":
        pizza = Klasik(sauce_type)
    elif base_type == "2":
        pizza = Margarita(sauce_type)
    elif base_type == "3":
        pizza = TurkPizza(sauce_type)
    elif base_type == "4":
        pizza = SadePizza(sauce_type)
    else:
        print("Lütfen geçerli bir seçim yapın.")

print("Pizza Açıklaması: ", pizza.get_description())
print("Toplam Tutar: ", pizza.get_cost())

name = input("İsim: ")
tc = input("TC Kimlik Numarası: ")
cc_num = input("Kredi Kartı Numarası: ")
cc_cvv = input("Kredi Kartı CVV: ")
order_description = pizza.get_description()

order_time = datetime.datetime.now().strftime("%Y-%m-%d %H:%M:%S")

with open("Orders_Database.csv", mode="a") as csv_file:
    fieldnames = ["Pizza", "Kullanıcı Adı", "TC Kimlik Numarası", "Kredi Kartı Numarası", "Açıklama", "Zaman", "Kredi Kartı CVV"]
    writer = csv.DictWriter(csv_file, fieldnames=fieldnames)

    writer.writerow({"Pizza": pizza.__class__.__name__,
                     "Kullanıcı Adı": name,
                     "TC Kimlik Numarası": tc,
                     "Kredi Kartı Numarası": cc_num,
                     "Açıklama": order_description,
                     "Zaman": order_time,
                     "Kredi Kartı CVV": cc_cvv})
print("Siparişiniz alınmıştır. Teşekkür ederiz!")
